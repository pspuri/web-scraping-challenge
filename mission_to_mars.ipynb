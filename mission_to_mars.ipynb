{
 "cells": [
  {
   "cell_type": "code",
   "execution_count": 24,
   "metadata": {},
   "outputs": [],
   "source": [
    "from splinter import Browser\n",
    "from bs4 import BeautifulSoup\n",
    "import re\n",
    "import pandas as pd"
   ]
  },
  {
   "cell_type": "code",
   "execution_count": 3,
   "metadata": {},
   "outputs": [
    {
     "name": "stdout",
     "output_type": "stream",
     "text": [
      "/usr/local/bin/chromedriver\r\n"
     ]
    }
   ],
   "source": [
    "!which chromedriver"
   ]
  },
  {
   "cell_type": "code",
   "execution_count": 4,
   "metadata": {},
   "outputs": [],
   "source": [
    "executable_path = {\"executable_path\": \"/usr/local/bin/chromedriver\"}\n",
    "browser = Browser(\"chrome\", **executable_path, headless=False)"
   ]
  },
  {
   "cell_type": "code",
   "execution_count": 8,
   "metadata": {},
   "outputs": [],
   "source": [
    "news_url = \"https://mars.nasa.gov/news/\"\n",
    "browser.visit(news_url)\n",
    "html = browser.html\n",
    "soup = BeautifulSoup(html, \"html.parser\")"
   ]
  },
  {
   "cell_type": "code",
   "execution_count": 9,
   "metadata": {},
   "outputs": [
    {
     "name": "stdout",
     "output_type": "stream",
     "text": [
      "40\n",
      "[<div class=\"list_text\"><div class=\"list_date\">November 15, 2019</div><div class=\"content_title\"><a href=\"/news/8551/mars-scientists-investigate-ancient-life-in-australia/\" target=\"_self\">Mars Scientists Investigate Ancient Life in Australia</a></div><div class=\"article_teaser_body\">Teams with NASA's Mars 2020 and ESA's ExoMars practiced hunting for fossilized microbial life in the Australian Outback in preparation for their Red Planet missions. </div></div>, <div class=\"list_text\"><div class=\"list_date\">November 12, 2019</div><div class=\"content_title\"><a href=\"/news/8549/nasas-mars-2020-will-hunt-for-microscopic-fossils/\" target=\"_self\">NASA's Mars 2020 Will Hunt for Microscopic Fossils</a></div><div class=\"article_teaser_body\">A new paper identifies a ring of minerals at the rover's landing site that are ideal for fossilizing microbial life.</div></div>, <div class=\"list_text\"><div class=\"list_date\">November 12, 2019</div><div class=\"content_title\"><a href=\"/news/8548/with-mars-methane-mystery-unsolved-curiosity-serves-scientists-a-new-one-oxygen/\" target=\"_self\">With Mars Methane Mystery Unsolved, Curiosity Serves Scientists a New One: Oxygen</a></div><div class=\"article_teaser_body\">For the first time in the history of space exploration, scientists have measured the seasonal changes in the gases that fill the air directly above the surface of Gale Crater on Mars. </div></div>, <div class=\"list_text\"><div class=\"list_date\">November  7, 2019</div><div class=\"content_title\"><a href=\"/news/8545/nasas-mars-2020-heads-into-the-test-chamber/\" target=\"_self\">NASA's Mars 2020 Heads Into the Test Chamber</a></div><div class=\"article_teaser_body\">In this time-lapse video taken at JPL, engineers move the Mars 2020 rover into a large vacuum chamber for testing in Mars-like environmental conditions.</div></div>, <div class=\"list_text\"><div class=\"list_date\">November  7, 2019</div><div class=\"content_title\"><a href=\"/news/8544/screening-soon-the-pathfinders-trains-lens-on-mars/\" target=\"_self\">Screening Soon: 'The Pathfinders' Trains Lens on Mars</a></div><div class=\"article_teaser_body\">With the Mars 2020 mission ramping up, the documentary — the first of four about past JPL missions to the Red Planet to be shown at Caltech — tells a gripping backstory.</div></div>, <div class=\"list_text\"><div class=\"list_date\">November  6, 2019</div><div class=\"content_title\"><a href=\"/news/8529/insights-mole-team-peers-into-the-pit/\" target=\"_self\">InSight's 'Mole' Team Peers into the Pit</a></div><div class=\"article_teaser_body\">Efforts to save the heat probe continue.</div></div>, <div class=\"list_text\"><div class=\"list_date\">November  6, 2019</div><div class=\"content_title\"><a href=\"/news/8444/common-questions-about-insights-mole/\" target=\"_self\">Common Questions about InSight's 'Mole'</a></div><div class=\"article_teaser_body\">There's a new plan to get InSight's \"mole\" moving again. The following Q&amp;As with two members of the team answer some of the most common questions about the burrowing device, part of a science instrument called the Heat Flow and Physical Properties Package (HP3).</div></div>, <div class=\"list_text\"><div class=\"list_date\">October 24, 2019</div><div class=\"content_title\"><a href=\"/news/8537/mars-2020-stands-on-its-own-six-wheels/\" target=\"_self\">Mars 2020 Stands on Its Own Six Wheels</a></div><div class=\"article_teaser_body\">In time-lapse video, taken at JPL, captures the first time NASA's Mars 2020 rover carries its full weight on its legs and wheels.</div></div>, <div class=\"list_text\"><div class=\"list_date\">October 24, 2019</div><div class=\"content_title\"><a href=\"/news/8536/new-selfie-shows-curiosity-the-mars-chemist/\" target=\"_self\">New Selfie Shows Curiosity, the Mars Chemist</a></div><div class=\"article_teaser_body\">The NASA rover performed a special chemistry experiment at the location captured in its newest self-portrait.</div></div>, <div class=\"list_text\"><div class=\"list_date\">October 22, 2019</div><div class=\"content_title\"><a href=\"/news/8534/naming-a-nasa-mars-rover-can-change-your-life/\" target=\"_self\">Naming a NASA Mars Rover Can Change Your Life</a></div><div class=\"article_teaser_body\">Want to name the robotic scientist NASA is sending to Mars in 2020? The student who named Curiosity — the rover currently exploring Mars — will tell you this is an opportunity worth taking.</div></div>, <div class=\"list_text\"><div class=\"list_date\">October 18, 2019</div><div class=\"content_title\"><a href=\"/news/8531/mars-2020-unwrapped-and-ready-for-more-testing/\" target=\"_self\">Mars 2020 Unwrapped and Ready for More Testing</a></div><div class=\"article_teaser_body\">In time-lapse video, bunny-suited engineers remove the inner layer of protective foil on NASA's Mars 2020 rover after it was relocated for testing.</div></div>, <div class=\"list_text\"><div class=\"list_date\">October 16, 2019</div><div class=\"content_title\"><a href=\"/news/8528/hirise-views-nasas-insight-and-curiosity-on-mars/\" target=\"_self\">HiRISE Views NASA's InSight and Curiosity on Mars</a></div><div class=\"article_teaser_body\">New images taken from space offer the clearest orbital glimpse yet of InSight as well as a view of Curiosity rolling along.</div></div>, <div class=\"list_text\"><div class=\"list_date\">October  7, 2019</div><div class=\"content_title\"><a href=\"/news/8522/nasas-curiosity-rover-finds-an-ancient-oasis-on-mars/\" target=\"_self\">NASA's Curiosity Rover Finds an Ancient Oasis on Mars</a></div><div class=\"article_teaser_body\">New evidence suggests salty, shallow ponds once dotted a Martian crater — a sign of the planet's drying climate.</div></div>, <div class=\"list_text\"><div class=\"list_date\">October  4, 2019</div><div class=\"content_title\"><a href=\"/news/8520/nasas-mars-2020-rover-tests-descent-stage-separation/\" target=\"_self\">NASA's Mars 2020 Rover Tests Descent-Stage Separation</a></div><div class=\"article_teaser_body\">A crane lifts the rocket-powered descent stage away from NASA's Mars 2020 rover after technicians tested the pyrotechnic charges that separate the two spacecraft.</div></div>, <div class=\"list_text\"><div class=\"list_date\">October  3, 2019</div><div class=\"content_title\"><a href=\"/news/8518/nasas-push-to-save-the-mars-insight-landers-heat-probe/\" target=\"_self\">NASA's Push to Save the Mars InSight Lander's Heat Probe</a></div><div class=\"article_teaser_body\">The scoop on the end of the spacecraft's robotic arm will be used to 'pin' the mole against the wall of its hole.</div></div>, <div class=\"list_text\"><div class=\"list_date\">October  1, 2019</div><div class=\"content_title\"><a href=\"/news/8517/nasas-insight-hears-peculiar-sounds-on-mars/\" target=\"_self\">NASA's InSight 'Hears' Peculiar Sounds on Mars</a></div><div class=\"article_teaser_body\">Listen to the marsquakes and other, less-expected sounds that the Mars lander has been detecting.</div></div>, <div class=\"list_text\"><div class=\"list_date\">September 23, 2019</div><div class=\"content_title\"><a href=\"/news/8512/nasa-mars-mission-connects-with-bosnian-and-herzegovinian-town/\" target=\"_self\">NASA Mars Mission Connects With Bosnian and Herzegovinian Town</a></div><div class=\"article_teaser_body\">A letter from NASA was presented to the mayor of Jezero, Bosnia-Herzegovina, honoring the connection between the town and Jezero Crater, the Mars 2020 rover landing site.</div></div>, <div class=\"list_text\"><div class=\"list_date\">September 18, 2019</div><div class=\"content_title\"><a href=\"/news/8511/deadline-closing-for-names-to-fly-on-nasas-next-mars-rover/\" target=\"_self\">Deadline Closing for Names to Fly on NASA's Next Mars Rover</a></div><div class=\"article_teaser_body\">You have until Sept. 30 to send your names to Mars aboard the Mars 2020 rover. </div></div>, <div class=\"list_text\"><div class=\"list_date\">September 16, 2019</div><div class=\"content_title\"><a href=\"/news/8510/nasa-wins-two-emmy-awards-for-interactive-mission-coverage/\" target=\"_self\">NASA Wins Two Emmy Awards for Interactive Mission Coverage</a></div><div class=\"article_teaser_body\">NASA-JPL's coverage of the Mars InSight landing earns one of the two wins, making this the NASA center's second Emmy.</div></div>, <div class=\"list_text\"><div class=\"list_date\">September 12, 2019</div><div class=\"content_title\"><a href=\"/news/8509/nasas-mars-2020-comes-full-circle/\" target=\"_self\">NASA's Mars 2020 Comes Full Circle</a></div><div class=\"article_teaser_body\">Aiming to pinpoint the Martian vehicle's center of gravity, engineers took NASA's 2,300-pound Mars 2020 rover for a spin in the clean room at JPL. </div></div>, <div class=\"list_text\"><div class=\"list_date\">August 28, 2019</div><div class=\"content_title\"><a href=\"/news/8508/nasa-invites-students-to-name-mars-2020-rover/\" target=\"_self\">NASA Invites Students to Name Mars 2020 Rover</a></div><div class=\"article_teaser_body\">Through Nov. 1, K-12 students in the U.S. are encouraged to enter an essay contest to name NASA's next Mars rover.</div></div>, <div class=\"list_text\"><div class=\"list_date\">August 28, 2019</div><div class=\"content_title\"><a href=\"/news/8507/nasas-mars-helicopter-attached-to-mars-2020-rover/\" target=\"_self\">NASA's Mars Helicopter Attached to Mars 2020 Rover </a></div><div class=\"article_teaser_body\">The helicopter will be first aircraft to perform flight tests on another planet.</div></div>, <div class=\"list_text\"><div class=\"list_date\">August 23, 2019</div><div class=\"content_title\"><a href=\"/news/8506/whats-mars-solar-conjunction-and-why-does-it-matter/\" target=\"_self\">What's Mars Solar Conjunction, and Why Does It Matter?</a></div><div class=\"article_teaser_body\">NASA spacecraft at Mars are going to be on their own for a few weeks when the Sun comes between Mars and Earth, interrupting communications.</div></div>, <div class=\"list_text\"><div class=\"list_date\">August 23, 2019</div><div class=\"content_title\"><a href=\"/news/8505/scientists-explore-outback-as-testbed-for-mars/\" target=\"_self\">Scientists Explore Outback as Testbed for Mars </a></div><div class=\"article_teaser_body\">Australia provides a great place for NASA's Mars 2020 and the ESA-Roscosmos ExoMars scientists to hone techniques in preparation for searching for signs ancient life on Mars.</div></div>, <div class=\"list_text\"><div class=\"list_date\">August 22, 2019</div><div class=\"content_title\"><a href=\"/news/8504/nasa-jpl-names-rolling-stones-rock-on-mars/\" target=\"_self\">NASA-JPL Names 'Rolling Stones Rock' on Mars</a></div><div class=\"article_teaser_body\">NASA's Mars InSight mission honored one of the biggest bands of all time at Pasadena concert.</div></div>, <div class=\"list_text\"><div class=\"list_date\">August 15, 2019</div><div class=\"content_title\"><a href=\"/news/8503/robotic-toolkit-added-to-nasas-mars-2020-rover/\" target=\"_self\">Robotic Toolkit Added to NASA's Mars 2020 Rover</a></div><div class=\"article_teaser_body\">The bit carousel, which lies at the heart of the rover's Sample Caching System, is now aboard NASA's newest rover. </div></div>, <div class=\"list_text\"><div class=\"list_date\">August 13, 2019</div><div class=\"content_title\"><a href=\"/news/8502/space-samples-link-nasas-apollo-11-and-mars-2020/\" target=\"_self\">Space Samples Link NASA's Apollo 11 and Mars 2020</a></div><div class=\"article_teaser_body\">While separated by half a century, NASA's Apollo 11 and Mars 2020 missions share the same historic goal: returning samples to Earth.</div></div>, <div class=\"list_text\"><div class=\"list_date\">August  9, 2019</div><div class=\"content_title\"><a href=\"/news/8501/small-satellite-mission-of-the-year/\" target=\"_self\">Small Satellite Mission of the Year</a></div><div class=\"article_teaser_body\">The first interplanetary CubeSats were recognized by the engineering community with the 2019 Small Satellite Mission of the Year award.</div></div>, <div class=\"list_text\"><div class=\"list_date\">August  5, 2019</div><div class=\"content_title\"><a href=\"/news/8499/nasa-optometrists-verify-mars-2020-rovers-2020-vision/\" target=\"_self\">NASA 'Optometrists' Verify Mars 2020 Rover's 20/20 Vision</a></div><div class=\"article_teaser_body\">Mars 2020 rover underwent an eye exam after several cameras were installed on the rover.</div></div>, <div class=\"list_text\"><div class=\"list_date\">August  5, 2019</div><div class=\"content_title\"><a href=\"/news/8498/new-finds-for-mars-rover-seven-years-after-landing/\" target=\"_self\">New Finds for Mars Rover, Seven Years After Landing</a></div><div class=\"article_teaser_body\">NASA's Curiosity rover is discovering odd rocks halfway into a region called the \"clay-bearing unit.\"</div></div>, <div class=\"list_text\"><div class=\"list_date\">August  3, 2019</div><div class=\"content_title\"><a href=\"/news/8497/medli2-installation-on-mars-2020-aeroshell-begins/\" target=\"_self\">MEDLI2 Installation on Mars 2020 Aeroshell Begins</a></div><div class=\"article_teaser_body\">Hardware installed onto NASA's Mars 2020 entry vehicle this week will help to increase the safety of future Mars landings.</div></div>, <div class=\"list_text\"><div class=\"list_date\">July 26, 2019</div><div class=\"content_title\"><a href=\"/news/8496/nasas-mars-2020-rover-does-biceps-curls/\" target=\"_self\">NASA's Mars 2020 Rover Does Biceps Curls </a></div><div class=\"article_teaser_body\">In this time-lapse video, the robotic arm on NASA's Mars 2020 rover maneuvers its 88-pound (40-kilogram) sensor-laden turret as it moves from a deployed to stowed configuration.</div></div>, <div class=\"list_text\"><div class=\"list_date\">July 24, 2019</div><div class=\"content_title\"><a href=\"/news/8495/fueling-of-nasas-mars-2020-rover-power-system-begins/\" target=\"_self\">Fueling of NASA's Mars 2020 Rover Power System Begins</a></div><div class=\"article_teaser_body\">NASA gives the go-ahead to fuel the Mars 2020 rover's Multi-Mission Radioisotope Thermoelectric Generator, which will power rover and help keep it warm while exploring Mars.</div></div>, <div class=\"list_text\"><div class=\"list_date\">July 22, 2019</div><div class=\"content_title\"><a href=\"/news/8494/what-does-a-marsquake-look-like/\" target=\"_self\">What Does a Marsquake Look Like?</a></div><div class=\"article_teaser_body\">InSight scientists used a special \"shake room\" to demonstrate the differences between quakes on Earth, the Moon and Mars.</div></div>, <div class=\"list_text\"><div class=\"list_date\">July 17, 2019</div><div class=\"content_title\"><a href=\"/news/8461/mars-2020-rover-t-minus-one-year-and-counting/\" target=\"_self\">Mars 2020 Rover: T-Minus One Year and Counting </a></div><div class=\"article_teaser_body\">The launch period for NASA's next rover, Mars 2020, opens exactly one year from today, July 17, 2020, and extends through Aug. 5, 2020.</div></div>, <div class=\"list_text\"><div class=\"list_date\">July 16, 2019</div><div class=\"content_title\"><a href=\"/news/8460/nasa-racks-up-two-emmy-nominations-for-mission-coverage/\" target=\"_self\">NASA Racks Up Two Emmy Nominations for Mission Coverage</a></div><div class=\"article_teaser_body\">JPL's coverage of the Mars InSight mission is among the efforts that will be up for an award in mid-September.</div></div>, <div class=\"list_text\"><div class=\"list_date\">July 15, 2019</div><div class=\"content_title\"><a href=\"/news/8459/want-to-colonize-mars-aerogel-could-help/\" target=\"_self\">Want to Colonize Mars? Aerogel Could Help</a></div><div class=\"article_teaser_body\">Researchers are studying whether a wonder material used in Mars rovers could help warm parts of the Red Planet rich in water ice.</div></div>, <div class=\"list_text\"><div class=\"list_date\">July 12, 2019</div><div class=\"content_title\"><a href=\"/news/8458/a-rover-pit-stop-at-jpl/\" target=\"_self\">A Rover Pit Stop at JPL</a></div><div class=\"article_teaser_body\">Working like a finely honed machine, a team of engineers in this time-lapse video clip install test wheels on another finely honed machine: NASA's Mars 2020 rover.</div></div>, <div class=\"list_text\"><div class=\"list_date\">July  2, 2019</div><div class=\"content_title\"><a href=\"/news/8457/mars-2020-rover-gets-a-super-instrument/\" target=\"_self\">Mars 2020 Rover Gets a Super Instrument</a></div><div class=\"article_teaser_body\">With its rock-zapping laser, the SuperCam will enable the science team to identify the chemical and mineral makeup of its targets on the Red Planet.</div></div>, <div class=\"list_text\"><div class=\"list_date\">July  1, 2019</div><div class=\"content_title\"><a href=\"/news/8456/a-neil-armstrong-for-mars-landing-the-mars-2020-rover/\" target=\"_self\">A Neil Armstrong for Mars: Landing the Mars 2020 Rover</a></div><div class=\"article_teaser_body\">NASA's newest rover will have an autopilot called Terrain-Relative Navigation.</div></div>]\n"
     ]
    }
   ],
   "source": [
    "article =soup.find_all(\"div\", class_=\"list_text\")\n",
    "print(len(article))\n",
    "print(article)"
   ]
  },
  {
   "cell_type": "code",
   "execution_count": null,
   "metadata": {},
   "outputs": [],
   "source": []
  },
  {
   "cell_type": "code",
   "execution_count": 11,
   "metadata": {
    "scrolled": true
   },
   "outputs": [],
   "source": [
    "#Mars titles and news \n",
    "    news_title = soup.article(\"div\", class_=\"content_title\")\n",
    "    news_p = soup.article(\"div\", class_ =\"article_teaser_body\")  "
   ]
  },
  {
   "cell_type": "code",
   "execution_count": 12,
   "metadata": {},
   "outputs": [
    {
     "name": "stdout",
     "output_type": "stream",
     "text": [
      "-------\n",
      "Teams with NASA's Mars 2020 and ESA's ExoMars practiced hunting for fossilized microbial life in the Australian Outback in preparation for their Red Planet missions. \n",
      "-------\n",
      "A new paper identifies a ring of minerals at the rover's landing site that are ideal for fossilizing microbial life.\n",
      "-------\n",
      "For the first time in the history of space exploration, scientists have measured the seasonal changes in the gases that fill the air directly above the surface of Gale Crater on Mars. \n",
      "-------\n",
      "In this time-lapse video taken at JPL, engineers move the Mars 2020 rover into a large vacuum chamber for testing in Mars-like environmental conditions.\n",
      "-------\n",
      "With the Mars 2020 mission ramping up, the documentary — the first of four about past JPL missions to the Red Planet to be shown at Caltech — tells a gripping backstory.\n",
      "-------\n",
      "Efforts to save the heat probe continue.\n",
      "-------\n",
      "There's a new plan to get InSight's \"mole\" moving again. The following Q&As with two members of the team answer some of the most common questions about the burrowing device, part of a science instrument called the Heat Flow and Physical Properties Package (HP3).\n",
      "-------\n",
      "In time-lapse video, taken at JPL, captures the first time NASA's Mars 2020 rover carries its full weight on its legs and wheels.\n",
      "-------\n",
      "The NASA rover performed a special chemistry experiment at the location captured in its newest self-portrait.\n",
      "-------\n",
      "Want to name the robotic scientist NASA is sending to Mars in 2020? The student who named Curiosity — the rover currently exploring Mars — will tell you this is an opportunity worth taking.\n",
      "-------\n",
      "In time-lapse video, bunny-suited engineers remove the inner layer of protective foil on NASA's Mars 2020 rover after it was relocated for testing.\n",
      "-------\n",
      "New images taken from space offer the clearest orbital glimpse yet of InSight as well as a view of Curiosity rolling along.\n",
      "-------\n",
      "New evidence suggests salty, shallow ponds once dotted a Martian crater — a sign of the planet's drying climate.\n",
      "-------\n",
      "A crane lifts the rocket-powered descent stage away from NASA's Mars 2020 rover after technicians tested the pyrotechnic charges that separate the two spacecraft.\n",
      "-------\n",
      "The scoop on the end of the spacecraft's robotic arm will be used to 'pin' the mole against the wall of its hole.\n",
      "-------\n",
      "Listen to the marsquakes and other, less-expected sounds that the Mars lander has been detecting.\n",
      "-------\n",
      "A letter from NASA was presented to the mayor of Jezero, Bosnia-Herzegovina, honoring the connection between the town and Jezero Crater, the Mars 2020 rover landing site.\n",
      "-------\n",
      "You have until Sept. 30 to send your names to Mars aboard the Mars 2020 rover. \n",
      "-------\n",
      "NASA-JPL's coverage of the Mars InSight landing earns one of the two wins, making this the NASA center's second Emmy.\n",
      "-------\n",
      "Aiming to pinpoint the Martian vehicle's center of gravity, engineers took NASA's 2,300-pound Mars 2020 rover for a spin in the clean room at JPL. \n",
      "-------\n",
      "Through Nov. 1, K-12 students in the U.S. are encouraged to enter an essay contest to name NASA's next Mars rover.\n",
      "-------\n",
      "The helicopter will be first aircraft to perform flight tests on another planet.\n",
      "-------\n",
      "NASA spacecraft at Mars are going to be on their own for a few weeks when the Sun comes between Mars and Earth, interrupting communications.\n",
      "-------\n",
      "Australia provides a great place for NASA's Mars 2020 and the ESA-Roscosmos ExoMars scientists to hone techniques in preparation for searching for signs ancient life on Mars.\n",
      "-------\n",
      "NASA's Mars InSight mission honored one of the biggest bands of all time at Pasadena concert.\n",
      "-------\n",
      "The bit carousel, which lies at the heart of the rover's Sample Caching System, is now aboard NASA's newest rover. \n",
      "-------\n",
      "While separated by half a century, NASA's Apollo 11 and Mars 2020 missions share the same historic goal: returning samples to Earth.\n",
      "-------\n",
      "The first interplanetary CubeSats were recognized by the engineering community with the 2019 Small Satellite Mission of the Year award.\n",
      "-------\n",
      "Mars 2020 rover underwent an eye exam after several cameras were installed on the rover.\n",
      "-------\n",
      "NASA's Curiosity rover is discovering odd rocks halfway into a region called the \"clay-bearing unit.\"\n",
      "-------\n",
      "Hardware installed onto NASA's Mars 2020 entry vehicle this week will help to increase the safety of future Mars landings.\n",
      "-------\n",
      "In this time-lapse video, the robotic arm on NASA's Mars 2020 rover maneuvers its 88-pound (40-kilogram) sensor-laden turret as it moves from a deployed to stowed configuration.\n",
      "-------\n",
      "NASA gives the go-ahead to fuel the Mars 2020 rover's Multi-Mission Radioisotope Thermoelectric Generator, which will power rover and help keep it warm while exploring Mars.\n",
      "-------\n",
      "InSight scientists used a special \"shake room\" to demonstrate the differences between quakes on Earth, the Moon and Mars.\n",
      "-------\n",
      "The launch period for NASA's next rover, Mars 2020, opens exactly one year from today, July 17, 2020, and extends through Aug. 5, 2020.\n",
      "-------\n",
      "JPL's coverage of the Mars InSight mission is among the efforts that will be up for an award in mid-September.\n",
      "-------\n",
      "Researchers are studying whether a wonder material used in Mars rovers could help warm parts of the Red Planet rich in water ice.\n",
      "-------\n",
      "Working like a finely honed machine, a team of engineers in this time-lapse video clip install test wheels on another finely honed machine: NASA's Mars 2020 rover.\n",
      "-------\n",
      "With its rock-zapping laser, the SuperCam will enable the science team to identify the chemical and mineral makeup of its targets on the Red Planet.\n",
      "-------\n",
      "NASA's newest rover will have an autopilot called Terrain-Relative Navigation.\n"
     ]
    }
   ],
   "source": [
    "for news in news_p:\n",
    "    print (\"-------\")\n",
    "    print (news.text)"
   ]
  },
  {
   "cell_type": "code",
   "execution_count": 18,
   "metadata": {},
   "outputs": [],
   "source": [
    "#JPL Page \n",
    "executable_path = {\"executable_path\": \"/usr/local/bin/chromedriver\"}\n",
    "browser = Browser(\"chrome\", **executable_path)\n",
    "jpl_url = \"https://www.jpl.nasa.gov/spaceimages/?search=&category=Mars\"\n",
    "browser.visit(jpl_url)"
   ]
  },
  {
   "cell_type": "code",
   "execution_count": 19,
   "metadata": {},
   "outputs": [],
   "source": [
    "# Ask Splinter to Go to Site and Click Button with Class Name full_image\n",
    "# <button class=\"full_image\">Full Image</button>\n",
    "full_image_button = browser.find_by_id(\"full_image\")\n",
    "full_image_button.click()"
   ]
  },
  {
   "cell_type": "code",
   "execution_count": 20,
   "metadata": {},
   "outputs": [],
   "source": [
    "# Find \"More Info\" Button and Click It\n",
    "browser.is_element_present_by_text(\"more info\", wait_time=1)\n",
    "more_info_element = browser.find_link_by_partial_text(\"more info\")\n",
    "more_info_element.click()"
   ]
  },
  {
   "cell_type": "code",
   "execution_count": 21,
   "metadata": {},
   "outputs": [],
   "source": [
    "# Parse Results HTML with BeautifulSoup\n",
    "html = browser.html\n",
    "image_soup = BeautifulSoup(html, \"html.parser\")"
   ]
  },
  {
   "cell_type": "code",
   "execution_count": 22,
   "metadata": {},
   "outputs": [
    {
     "data": {
      "text/plain": [
       "'/spaceimages/images/largesize/PIA17843_hires.jpg'"
      ]
     },
     "execution_count": 22,
     "metadata": {},
     "output_type": "execute_result"
    }
   ],
   "source": [
    "img_url = image_soup.select_one(\"figure.lede a img\").get(\"src\")\n",
    "img_url"
   ]
  },
  {
   "cell_type": "code",
   "execution_count": 23,
   "metadata": {},
   "outputs": [
    {
     "name": "stdout",
     "output_type": "stream",
     "text": [
      "https://www.jpl.nasa.gov/spaceimages/images/largesize/PIA17843_hires.jpg\n"
     ]
    }
   ],
   "source": [
    "# Use Base URL to Create Absolute URL\n",
    "img_url = f\"https://www.jpl.nasa.gov{img_url}\"\n",
    "print(img_url)"
   ]
  },
  {
   "cell_type": "code",
   "execution_count": 25,
   "metadata": {},
   "outputs": [],
   "source": [
    "# Visit the Mars Weather Twitter Account\n",
    "executable_path = {\"executable_path\": \"/usr/local/bin/chromedriver\"}\n",
    "browser = Browser(\"chrome\", **executable_path, headless=False)\n",
    "url = \"https://twitter.com/marswxreport?lang=en\"\n",
    "browser.visit(url)"
   ]
  },
  {
   "cell_type": "code",
   "execution_count": 26,
   "metadata": {},
   "outputs": [],
   "source": [
    "# Parse Results HTML with BeautifulSoup\n",
    "html = browser.html\n",
    "weather_soup = BeautifulSoup(html, \"html.parser\")"
   ]
  },
  {
   "cell_type": "code",
   "execution_count": 27,
   "metadata": {},
   "outputs": [],
   "source": [
    "# Find a Tweet with the data-name `Mars Weather`\n",
    "mars_weather_tweet = weather_soup.find(\"div\", \n",
    "                                       attrs={\n",
    "                                           \"class\": \"tweet\", \n",
    "                                            \"data-name\": \"Mars Weather\"\n",
    "                                        })"
   ]
  },
  {
   "cell_type": "code",
   "execution_count": 28,
   "metadata": {},
   "outputs": [
    {
     "name": "stdout",
     "output_type": "stream",
     "text": [
      "InSight sol 346 (2019-11-16) low -101.5ºC (-150.8ºF) high -23.5ºC (-10.3ºF)\n",
      "winds from the SSE at 4.8 m/s (10.8 mph) gusting to 20.0 m/s (44.7 mph)\n",
      "pressure at 6.80 hPapic.twitter.com/zAXfs9KpgE\n"
     ]
    }
   ],
   "source": [
    "# Search Within Tweet for <p> Tag Containing Tweet Text\n",
    "mars_weather = mars_weather_tweet.find(\"p\", \"tweet-text\").get_text()\n",
    "print(mars_weather)"
   ]
  },
  {
   "cell_type": "code",
   "execution_count": 31,
   "metadata": {},
   "outputs": [
    {
     "name": "stdout",
     "output_type": "stream",
     "text": [
      "                      0                              1\n",
      "0  Equatorial Diameter:                       6,792 km\n",
      "1       Polar Diameter:                       6,752 km\n",
      "2                 Mass:  6.39 × 10^23 kg (0.11 Earths)\n",
      "3                Moons:            2 (Phobos & Deimos)\n",
      "4       Orbit Distance:       227,943,824 km (1.38 AU)\n",
      "5         Orbit Period:           687 days (1.9 years)\n",
      "6  Surface Temperature:                   -87 to -5 °C\n",
      "7         First Record:              2nd millennium BC\n",
      "8          Recorded By:           Egyptian astronomers\n"
     ]
    },
    {
     "data": {
      "text/html": [
       "<div>\n",
       "<style scoped>\n",
       "    .dataframe tbody tr th:only-of-type {\n",
       "        vertical-align: middle;\n",
       "    }\n",
       "\n",
       "    .dataframe tbody tr th {\n",
       "        vertical-align: top;\n",
       "    }\n",
       "\n",
       "    .dataframe thead th {\n",
       "        text-align: right;\n",
       "    }\n",
       "</style>\n",
       "<table border=\"1\" class=\"dataframe\">\n",
       "  <thead>\n",
       "    <tr style=\"text-align: right;\">\n",
       "      <th></th>\n",
       "      <th>Value</th>\n",
       "    </tr>\n",
       "    <tr>\n",
       "      <th>Description</th>\n",
       "      <th></th>\n",
       "    </tr>\n",
       "  </thead>\n",
       "  <tbody>\n",
       "    <tr>\n",
       "      <th>Equatorial Diameter:</th>\n",
       "      <td>6,792 km</td>\n",
       "    </tr>\n",
       "    <tr>\n",
       "      <th>Polar Diameter:</th>\n",
       "      <td>6,752 km</td>\n",
       "    </tr>\n",
       "    <tr>\n",
       "      <th>Mass:</th>\n",
       "      <td>6.39 × 10^23 kg (0.11 Earths)</td>\n",
       "    </tr>\n",
       "    <tr>\n",
       "      <th>Moons:</th>\n",
       "      <td>2 (Phobos &amp; Deimos)</td>\n",
       "    </tr>\n",
       "    <tr>\n",
       "      <th>Orbit Distance:</th>\n",
       "      <td>227,943,824 km (1.38 AU)</td>\n",
       "    </tr>\n",
       "    <tr>\n",
       "      <th>Orbit Period:</th>\n",
       "      <td>687 days (1.9 years)</td>\n",
       "    </tr>\n",
       "    <tr>\n",
       "      <th>Surface Temperature:</th>\n",
       "      <td>-87 to -5 °C</td>\n",
       "    </tr>\n",
       "    <tr>\n",
       "      <th>First Record:</th>\n",
       "      <td>2nd millennium BC</td>\n",
       "    </tr>\n",
       "    <tr>\n",
       "      <th>Recorded By:</th>\n",
       "      <td>Egyptian astronomers</td>\n",
       "    </tr>\n",
       "  </tbody>\n",
       "</table>\n",
       "</div>"
      ],
      "text/plain": [
       "                                              Value\n",
       "Description                                        \n",
       "Equatorial Diameter:                       6,792 km\n",
       "Polar Diameter:                            6,752 km\n",
       "Mass:                 6.39 × 10^23 kg (0.11 Earths)\n",
       "Moons:                          2 (Phobos & Deimos)\n",
       "Orbit Distance:            227,943,824 km (1.38 AU)\n",
       "Orbit Period:                  687 days (1.9 years)\n",
       "Surface Temperature:                   -87 to -5 °C\n",
       "First Record:                     2nd millennium BC\n",
       "Recorded By:                   Egyptian astronomers"
      ]
     },
     "execution_count": 31,
     "metadata": {},
     "output_type": "execute_result"
    }
   ],
   "source": [
    "# Visit the Mars Facts Site Using Pandas to Read\n",
    "mars_df = pd.read_html(\"https://space-facts.com/mars/\")[0]\n",
    "print(mars_df)\n",
    "mars_df.columns=[\"Description\", \"Value\"]\n",
    "mars_df.set_index(\"Description\", inplace=True)\n",
    "mars_df"
   ]
  },
  {
   "cell_type": "code",
   "execution_count": 32,
   "metadata": {},
   "outputs": [],
   "source": [
    "# Visit the USGS Astrogeology Science Center Site\n",
    "executable_path = {\"executable_path\": \"/usr/local/bin/chromedriver\"}\n",
    "browser = Browser(\"chrome\", **executable_path, headless=False)\n",
    "url = \"https://astrogeology.usgs.gov/search/results?q=hemisphere+enhanced&k1=target&v1=Mars\"\n",
    "browser.visit(url)"
   ]
  },
  {
   "cell_type": "code",
   "execution_count": 33,
   "metadata": {},
   "outputs": [],
   "source": [
    "hemisphere_image_urls = []\n",
    "\n",
    "# Get a List of All the Hemispheres\n",
    "links = browser.find_by_css(\"a.product-item h3\")\n",
    "for item in range(len(links)):\n",
    "    hemisphere = {}\n",
    "    \n",
    "    # Find Element on Each Loop to Avoid a Stale Element Exception\n",
    "    browser.find_by_css(\"a.product-item h3\")[item].click()\n",
    "    \n",
    "    # Find Sample Image Anchor Tag & Extract <href>\n",
    "    sample_element = browser.find_link_by_text(\"Sample\").first\n",
    "    hemisphere[\"img_url\"] = sample_element[\"href\"]\n",
    "    \n",
    "    # Get Hemisphere Title\n",
    "    hemisphere[\"title\"] = browser.find_by_css(\"h2.title\").text\n",
    "    \n",
    "    # Append Hemisphere Object to List\n",
    "    hemisphere_image_urls.append(hemisphere)\n",
    "    \n",
    "    # Navigate Backwards\n",
    "    browser.back()"
   ]
  },
  {
   "cell_type": "code",
   "execution_count": 34,
   "metadata": {},
   "outputs": [
    {
     "data": {
      "text/plain": [
       "[{'img_url': 'http://astropedia.astrogeology.usgs.gov/download/Mars/Viking/cerberus_enhanced.tif/full.jpg',\n",
       "  'title': 'Cerberus Hemisphere Enhanced'},\n",
       " {'img_url': 'http://astropedia.astrogeology.usgs.gov/download/Mars/Viking/schiaparelli_enhanced.tif/full.jpg',\n",
       "  'title': 'Schiaparelli Hemisphere Enhanced'},\n",
       " {'img_url': 'http://astropedia.astrogeology.usgs.gov/download/Mars/Viking/syrtis_major_enhanced.tif/full.jpg',\n",
       "  'title': 'Syrtis Major Hemisphere Enhanced'},\n",
       " {'img_url': 'http://astropedia.astrogeology.usgs.gov/download/Mars/Viking/valles_marineris_enhanced.tif/full.jpg',\n",
       "  'title': 'Valles Marineris Hemisphere Enhanced'}]"
      ]
     },
     "execution_count": 34,
     "metadata": {},
     "output_type": "execute_result"
    }
   ],
   "source": [
    "hemisphere_image_urls"
   ]
  },
  {
   "cell_type": "code",
   "execution_count": null,
   "metadata": {},
   "outputs": [],
   "source": []
  }
 ],
 "metadata": {
  "kernelspec": {
   "display_name": "Python 3",
   "language": "python",
   "name": "python3"
  },
  "language_info": {
   "codemirror_mode": {
    "name": "ipython",
    "version": 3
   },
   "file_extension": ".py",
   "mimetype": "text/x-python",
   "name": "python",
   "nbconvert_exporter": "python",
   "pygments_lexer": "ipython3",
   "version": "3.7.3"
  }
 },
 "nbformat": 4,
 "nbformat_minor": 2
}
